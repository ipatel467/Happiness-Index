{
 "cells": [
  {
   "cell_type": "code",
   "execution_count": 1,
   "metadata": {},
   "outputs": [],
   "source": [
    "# Import Needed Libraries\n",
    "import numpy as np\n",
    "import pandas as pd\n",
    "import matplotlib.pyplot as plt\n",
    "import seaborn as sns"
   ]
  },
  {
   "cell_type": "code",
   "execution_count": 2,
   "metadata": {},
   "outputs": [],
   "source": [
    "# Import Datasets\n",
    "df15_original = pd.read_csv('2015.csv')\n",
    "df16_original = pd.read_csv('2016.csv')\n",
    "df17_original = pd.read_csv('2017.csv')\n",
    "df18_original = pd.read_csv('2018.csv')\n",
    "df19_original = pd.read_csv('2019.csv')"
   ]
  },
  {
   "cell_type": "code",
   "execution_count": 3,
   "metadata": {},
   "outputs": [],
   "source": [
    "# Create copies of dataset.\n",
    "# Dont touch the original. We will work on the copy\n",
    "\n",
    "df15 = df15_original.copy()\n",
    "df16 = df16_original.copy()\n",
    "df17 = df17_original.copy()\n",
    "df18 = df18_original.copy()\n",
    "df19 = df19_original.copy()"
   ]
  },
  {
   "cell_type": "code",
   "execution_count": null,
   "metadata": {},
   "outputs": [],
   "source": [
    "# possible machine learning projects ideas for this data set\n",
    "# Happiness Score Predictor (Regressor)\n",
    "# Merge all the datasets into one\n",
    "# make a year column for each dataset"
   ]
  }
 ],
 "metadata": {
  "kernelspec": {
   "display_name": "Python 3",
   "language": "python",
   "name": "python3"
  },
  "language_info": {
   "codemirror_mode": {
    "name": "ipython",
    "version": 3
   },
   "file_extension": ".py",
   "mimetype": "text/x-python",
   "name": "python",
   "nbconvert_exporter": "python",
   "pygments_lexer": "ipython3",
   "version": "3.7.3"
  }
 },
 "nbformat": 4,
 "nbformat_minor": 4
}
